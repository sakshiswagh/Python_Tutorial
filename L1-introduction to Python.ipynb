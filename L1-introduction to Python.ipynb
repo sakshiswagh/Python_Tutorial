{
  "nbformat": 4,
  "nbformat_minor": 0,
  "metadata": {
    "colab": {
      "provenance": [],
      "authorship_tag": "ABX9TyNkcBeJ/501y8IhEdMQGCei",
      "include_colab_link": true
    },
    "kernelspec": {
      "name": "python3",
      "display_name": "Python 3"
    },
    "language_info": {
      "name": "python"
    }
  },
  "cells": [
    {
      "cell_type": "markdown",
      "metadata": {
        "id": "view-in-github",
        "colab_type": "text"
      },
      "source": [
        "<a href=\"https://colab.research.google.com/github/sakshiswagh/Python_Tutorial/blob/main/L1-introduction%20to%20Python.ipynb\" target=\"_parent\"><img src=\"https://colab.research.google.com/assets/colab-badge.svg\" alt=\"Open In Colab\"/></a>"
      ]
    },
    {
      "cell_type": "markdown",
      "source": [
        "\n",
        "Q.1 print helloworld"
      ],
      "metadata": {
        "id": "HIBUPtEc1ej2"
      }
    },
    {
      "cell_type": "code",
      "execution_count": 2,
      "metadata": {
        "colab": {
          "base_uri": "https://localhost:8080/"
        },
        "id": "vba_omsuzuLS",
        "outputId": "6681345e-df9a-4cdf-ef5f-f3a143c268a7"
      },
      "outputs": [
        {
          "output_type": "stream",
          "name": "stdout",
          "text": [
            "helloworld\n"
          ]
        }
      ],
      "source": [
        "print(\"helloworld\")\n"
      ]
    },
    {
      "cell_type": "markdown",
      "source": [
        "Q.2 describe local variable and global variable code"
      ],
      "metadata": {
        "id": "m020p1tJ1d6p"
      }
    },
    {
      "cell_type": "code",
      "source": [
        "x = 10  # Global variable\n",
        "\n",
        "def example():\n",
        "    y = 5  # Local variable\n",
        "    print(\"Local variable y:\", y)\n",
        "\n",
        "example()\n",
        "print(\"Global variable x:\", x)\n"
      ],
      "metadata": {
        "colab": {
          "base_uri": "https://localhost:8080/"
        },
        "id": "z2fZLbAy1O_c",
        "outputId": "381fde77-eb22-49e2-dfeb-0aed3013d257"
      },
      "execution_count": 3,
      "outputs": [
        {
          "output_type": "stream",
          "name": "stdout",
          "text": [
            "Local variable y: 5\n",
            "Global variable x: 10\n"
          ]
        }
      ]
    },
    {
      "cell_type": "markdown",
      "source": [
        "Q3. Code to describe an Indentation Error"
      ],
      "metadata": {
        "id": "ggUNpfHr1Pv4"
      }
    },
    {
      "cell_type": "code",
      "source": [
        "def example():\n",
        "print(\"This will give an indentation error\")  # Indentation is missing\n"
      ],
      "metadata": {
        "colab": {
          "base_uri": "https://localhost:8080/",
          "height": 106
        },
        "id": "Qz-RZvFQ1zoS",
        "outputId": "1932fb4a-fad3-47e9-a908-bb2b3e585073"
      },
      "execution_count": 4,
      "outputs": [
        {
          "output_type": "error",
          "ename": "IndentationError",
          "evalue": "expected an indented block after function definition on line 1 (<ipython-input-4-c52a73a4df93>, line 2)",
          "traceback": [
            "\u001b[0;36m  File \u001b[0;32m\"<ipython-input-4-c52a73a4df93>\"\u001b[0;36m, line \u001b[0;32m2\u001b[0m\n\u001b[0;31m    print(\"This will give an indentation error\")  # Indentation is missing\u001b[0m\n\u001b[0m    ^\u001b[0m\n\u001b[0;31mIndentationError\u001b[0m\u001b[0;31m:\u001b[0m expected an indented block after function definition on line 1\n"
          ]
        }
      ]
    },
    {
      "cell_type": "markdown",
      "source": [
        "Q4. Code for local and global variable with the same name:"
      ],
      "metadata": {
        "id": "Fro-va9y18Hi"
      }
    },
    {
      "cell_type": "code",
      "source": [
        "x = 10  # Global variable\n",
        "\n",
        "def example():\n",
        "    x = 20  # Local variable with the same name\n",
        "    print(\"Local variable x:\", x)\n",
        "\n",
        "example()\n",
        "print(\"Global variable x:\", x)\n"
      ],
      "metadata": {
        "colab": {
          "base_uri": "https://localhost:8080/"
        },
        "id": "5igCTMbO14XE",
        "outputId": "e41de8b1-7447-4c05-cebf-eee3f3994bee"
      },
      "execution_count": 1,
      "outputs": [
        {
          "output_type": "stream",
          "name": "stdout",
          "text": [
            "Local variable x: 20\n",
            "Global variable x: 10\n"
          ]
        }
      ]
    },
    {
      "cell_type": "markdown",
      "source": [
        "Q5. Separate codes for string, int, and float inputs"
      ],
      "metadata": {
        "id": "-eMHTfe7JGFW"
      }
    },
    {
      "cell_type": "code",
      "source": [
        "# String Input:\n",
        "name = input(\"Enter your name: \")\n",
        "print(\"String input:\", name)\n",
        "\n",
        "\n"
      ],
      "metadata": {
        "colab": {
          "base_uri": "https://localhost:8080/"
        },
        "id": "ioqukIcVI4D3",
        "outputId": "0c637003-ee54-4707-c7e7-b8aedbf37759"
      },
      "execution_count": 3,
      "outputs": [
        {
          "output_type": "stream",
          "name": "stdout",
          "text": [
            "Enter your name: sakshi\n",
            "String input: sakshi\n"
          ]
        }
      ]
    },
    {
      "cell_type": "code",
      "source": [
        "# Integer Input:\n",
        "age = int(input(\"Enter your age: \"))\n",
        "print(\"Integer input:\", age)\n",
        "\n"
      ],
      "metadata": {
        "colab": {
          "base_uri": "https://localhost:8080/"
        },
        "id": "3u4syhalJE03",
        "outputId": "5d912339-01d4-49d4-bcbe-7c4c3b82dc2a"
      },
      "execution_count": 4,
      "outputs": [
        {
          "output_type": "stream",
          "name": "stdout",
          "text": [
            "Enter your age: 9\n",
            "Integer input: 9\n"
          ]
        }
      ]
    },
    {
      "cell_type": "code",
      "source": [
        "# Float Input:\n",
        "salary = float(input(\"Enter your salary: \"))\n",
        "print(\"Float input:\", salary)\n",
        "\n",
        "\n",
        "\n",
        "\n",
        "\n",
        "\n"
      ],
      "metadata": {
        "colab": {
          "base_uri": "https://localhost:8080/"
        },
        "id": "YNoWVQHpJead",
        "outputId": "00e36f8b-7cc2-4c2d-beae-5a0faaa1d88e"
      },
      "execution_count": 6,
      "outputs": [
        {
          "output_type": "stream",
          "name": "stdout",
          "text": [
            "Enter your salary: 89.00\n",
            "Float input: 89.0\n"
          ]
        }
      ]
    },
    {
      "cell_type": "code",
      "source": [],
      "metadata": {
        "id": "uxGCUiyHJouJ"
      },
      "execution_count": null,
      "outputs": []
    }
  ]
}